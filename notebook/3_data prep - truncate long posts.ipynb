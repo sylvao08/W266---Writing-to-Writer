{
 "cells": [
  {
   "cell_type": "code",
   "execution_count": 1,
   "metadata": {},
   "outputs": [],
   "source": [
    "import pandas as pd\n",
    "import os\n",
    "from importlib import reload\n",
    "from helpers import constants; reload(constants)\n",
    "import re"
   ]
  },
  {
   "cell_type": "code",
   "execution_count": 2,
   "metadata": {},
   "outputs": [],
   "source": [
    "raw_data_path = constants.RAW_TEXT_DIR\n",
    "base_data_path = constants.BASE_DATA_DIR\n",
    "max_len = constants.MAX_SEQUENCE_LENGTH\n",
    "intermediate_path = constants.ITM_DATA_DIR"
   ]
  },
  {
   "cell_type": "code",
   "execution_count": 3,
   "metadata": {},
   "outputs": [],
   "source": [
    "df_posts = pd.read_pickle(intermediate_path + '/post_df.pickle')"
   ]
  },
  {
   "cell_type": "code",
   "execution_count": 5,
   "metadata": {},
   "outputs": [
    {
     "name": "stdout",
     "output_type": "stream",
     "text": [
      "   Err... i think i get his point. Sorry 'bout that...  Well, maybe for you it won't be a critical status to be \"psychedelic\", but when you're in there knowing nothing about what's going to happen next, then \"kabloosh...\" =P   But the reason i smoke? I really don't know. But now all i know is that i have this one \"judgement stick\" left in my W-Lights' case. If i take that one, i won't smoke again... darn.  \n"
     ]
    }
   ],
   "source": [
    "print(df_posts.loc[100,'post'])"
   ]
  },
  {
   "cell_type": "code",
   "execution_count": 31,
   "metadata": {},
   "outputs": [
    {
     "data": {
      "text/plain": [
       "(409798, 6)"
      ]
     },
     "execution_count": 31,
     "metadata": {},
     "output_type": "execute_result"
    }
   ],
   "source": [
    "df_posts.shape"
   ]
  },
  {
   "cell_type": "code",
   "execution_count": 32,
   "metadata": {},
   "outputs": [],
   "source": [
    "# attach one column recording the length of the post\n",
    "def post_length(text):\n",
    "    match_phrase = r'\\w+' # r'\\w+[\\']?\\w*'\n",
    "    return len(re.findall(match_phrase, text))\n",
    "\n",
    "length_list = []\n",
    "for post in df_posts.loc[:,'post']:\n",
    "    length = post_length(post)\n",
    "    length_list.append(length)\n",
    "\n",
    "df_posts['len'] = length_list"
   ]
  },
  {
   "cell_type": "code",
   "execution_count": 33,
   "metadata": {},
   "outputs": [
    {
     "data": {
      "text/html": [
       "<div>\n",
       "<style scoped>\n",
       "    .dataframe tbody tr th:only-of-type {\n",
       "        vertical-align: middle;\n",
       "    }\n",
       "\n",
       "    .dataframe tbody tr th {\n",
       "        vertical-align: top;\n",
       "    }\n",
       "\n",
       "    .dataframe thead th {\n",
       "        text-align: right;\n",
       "    }\n",
       "</style>\n",
       "<table border=\"1\" class=\"dataframe\">\n",
       "  <thead>\n",
       "    <tr style=\"text-align: right;\">\n",
       "      <th></th>\n",
       "      <th>post</th>\n",
       "      <th>id</th>\n",
       "      <th>gender</th>\n",
       "      <th>age</th>\n",
       "      <th>industry</th>\n",
       "      <th>sign</th>\n",
       "      <th>len</th>\n",
       "    </tr>\n",
       "  </thead>\n",
       "  <tbody>\n",
       "    <tr>\n",
       "      <th>0</th>\n",
       "      <td>Hello to anyone who's reading this. I've be...</td>\n",
       "      <td>2973911</td>\n",
       "      <td>male</td>\n",
       "      <td>17</td>\n",
       "      <td>Student</td>\n",
       "      <td>Sagittarius</td>\n",
       "      <td>143</td>\n",
       "    </tr>\n",
       "    <tr>\n",
       "      <th>1</th>\n",
       "      <td>Gosh, Jer. This is a blog. Not a chatroom. ...</td>\n",
       "      <td>2973911</td>\n",
       "      <td>male</td>\n",
       "      <td>17</td>\n",
       "      <td>Student</td>\n",
       "      <td>Sagittarius</td>\n",
       "      <td>92</td>\n",
       "    </tr>\n",
       "    <tr>\n",
       "      <th>2</th>\n",
       "      <td>Hey! people please come here!  I'm dying......</td>\n",
       "      <td>2973911</td>\n",
       "      <td>male</td>\n",
       "      <td>17</td>\n",
       "      <td>Student</td>\n",
       "      <td>Sagittarius</td>\n",
       "      <td>19</td>\n",
       "    </tr>\n",
       "    <tr>\n",
       "      <th>3</th>\n",
       "      <td>Is that \"mandough\" the mando I know?  Or so...</td>\n",
       "      <td>2973911</td>\n",
       "      <td>male</td>\n",
       "      <td>17</td>\n",
       "      <td>Student</td>\n",
       "      <td>Sagittarius</td>\n",
       "      <td>37</td>\n",
       "    </tr>\n",
       "    <tr>\n",
       "      <th>4</th>\n",
       "      <td>Omigodessess!!!! What the fork!  Hey, doofu...</td>\n",
       "      <td>2973911</td>\n",
       "      <td>male</td>\n",
       "      <td>17</td>\n",
       "      <td>Student</td>\n",
       "      <td>Sagittarius</td>\n",
       "      <td>18</td>\n",
       "    </tr>\n",
       "  </tbody>\n",
       "</table>\n",
       "</div>"
      ],
      "text/plain": [
       "                                                post       id gender age  \\\n",
       "0     Hello to anyone who's reading this. I've be...  2973911   male  17   \n",
       "1     Gosh, Jer. This is a blog. Not a chatroom. ...  2973911   male  17   \n",
       "2     Hey! people please come here!  I'm dying......  2973911   male  17   \n",
       "3     Is that \"mandough\" the mando I know?  Or so...  2973911   male  17   \n",
       "4     Omigodessess!!!! What the fork!  Hey, doofu...  2973911   male  17   \n",
       "\n",
       "  industry         sign  len  \n",
       "0  Student  Sagittarius  143  \n",
       "1  Student  Sagittarius   92  \n",
       "2  Student  Sagittarius   19  \n",
       "3  Student  Sagittarius   37  \n",
       "4  Student  Sagittarius   18  "
      ]
     },
     "execution_count": 33,
     "metadata": {},
     "output_type": "execute_result"
    }
   ],
   "source": [
    "df_posts.head()"
   ]
  },
  {
   "cell_type": "code",
   "execution_count": 34,
   "metadata": {},
   "outputs": [],
   "source": [
    "def divide_text(text, length_keep):\n",
    "    '''\n",
    "    Divide each post into two parts - the first half and the second half,\n",
    "    the length of each half is controlled by the argument length_keep.\n",
    "    these two texts will be used in the model on half of the original posts.\n",
    "    Such operation is to control the length of each post.\n",
    "    Argument:\n",
    "    text: the post that need to be divided\n",
    "    length_keep: the length of the remaining text\n",
    "    Return: \n",
    "    A tuple of two strings each of which is the resulting text\n",
    "    '''\n",
    "    word_list = text.split()\n",
    "    while ('' in word_list): word_list.remove('')\n",
    "    first_half = ' '.join(word_list[:length_keep])\n",
    "    second_half = ' '.join(word_list[-length_keep:])\n",
    "    return [first_half, second_half]"
   ]
  },
  {
   "cell_type": "code",
   "execution_count": 35,
   "metadata": {},
   "outputs": [],
   "source": [
    "def combine_text_label(post_list, label_list):\n",
    "    return [[post] + label_list for post in post_list]"
   ]
  },
  {
   "cell_type": "code",
   "execution_count": 36,
   "metadata": {},
   "outputs": [],
   "source": [
    "def truncate_text(df_posts, length_keep):\n",
    "    '''\n",
    "    Transform the post dataframe into a new dataframe which contains the truncated version of the post.\n",
    "    The long post(longer than length_keep) will be divided into two halves,\n",
    "    each of the two half will become a row in the new dataframe.\n",
    "    '''\n",
    "    col_name = df_posts.columns\n",
    "    list_df_truncated = []\n",
    "    for _, data in df_posts.iterrows():\n",
    "        if data['len'] <= length_keep: # if the post is short enough, no truncation is needed\n",
    "            df_truncated_text = pd.DataFrame(columns=col_name)\n",
    "            df_truncated_text.loc[0] = data.tolist()\n",
    "        else:\n",
    "            label_list = data[data.index != 'post'].tolist()\n",
    "            divided_text_list = divide_text(data['post'], length_keep)\n",
    "            df_truncated_text = pd.DataFrame(combine_text_label(divided_text_list, label_list), columns = col_name)\n",
    "        list_df_truncated.append(df_truncated_text)\n",
    "    df_return = pd.concat(list_df_truncated).reset_index()\n",
    "    return df_return.drop('index', axis=1)"
   ]
  },
  {
   "cell_type": "code",
   "execution_count": 37,
   "metadata": {},
   "outputs": [],
   "source": [
    "df_posts_short = truncate_text(df_posts, max_len)"
   ]
  },
  {
   "cell_type": "code",
   "execution_count": 38,
   "metadata": {},
   "outputs": [],
   "source": [
    "df_posts_short.drop('len',inplace=True, axis=1)"
   ]
  },
  {
   "cell_type": "code",
   "execution_count": 39,
   "metadata": {},
   "outputs": [],
   "source": [
    "df_posts_short.to_pickle(base_data_path +'/post_df_short.pickle')"
   ]
  },
  {
   "cell_type": "code",
   "execution_count": null,
   "metadata": {},
   "outputs": [],
   "source": []
  }
 ],
 "metadata": {
  "kernelspec": {
   "display_name": "Python 3",
   "language": "python",
   "name": "python3"
  },
  "language_info": {
   "codemirror_mode": {
    "name": "ipython",
    "version": 3
   },
   "file_extension": ".py",
   "mimetype": "text/x-python",
   "name": "python",
   "nbconvert_exporter": "python",
   "pygments_lexer": "ipython3",
   "version": "3.6.2"
  }
 },
 "nbformat": 4,
 "nbformat_minor": 2
}
