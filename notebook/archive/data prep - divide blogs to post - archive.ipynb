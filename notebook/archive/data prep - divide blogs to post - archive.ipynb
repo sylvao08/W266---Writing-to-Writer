{
 "cells": [
  {
   "cell_type": "code",
   "execution_count": 14,
   "metadata": {},
   "outputs": [],
   "source": [
    "#imports\n",
    "import pandas as pd\n",
    "import os\n",
    "import re\n",
    "from importlib import reload\n",
    "from helpers import constants; reload(constants)"
   ]
  },
  {
   "cell_type": "code",
   "execution_count": 46,
   "metadata": {},
   "outputs": [],
   "source": [
    "raw_data_path = constants.RAW_TEXT_DIR"
   ]
  },
  {
   "cell_type": "markdown",
   "metadata": {},
   "source": [
    "### Divide Blog Files into Post Files"
   ]
  },
  {
   "cell_type": "code",
   "execution_count": 131,
   "metadata": {},
   "outputs": [],
   "source": [
    "def split_file(input_path):\n",
    "    '''Divide the raw blog files which contain multiple posts from the same writer into\n",
    "    multiple post files each of which only contains one post.\n",
    "    Argument:\n",
    "    input_path: string of absolute path to the folder that directly contain all the files\n",
    "    Return: \n",
    "    New files will be written into a folder called \"posts\" which is placed by the\n",
    "    input folder(not inside the input folder). The file name is the parent file name with an index as suffix.\n",
    "    '''\n",
    "    out_n = 0\n",
    "    done = False\n",
    "    filename = os.path.splitext(os.path.basename(input_path))[0]\n",
    "    output_path = os.path.dirname(raw_data_path)+'/'+'posts/'\n",
    "\n",
    "    with open(input_path) as in_file:\n",
    "        while not done: #loop over output file names\n",
    "            with open(f\"{output_path}{filename}.{out_n}.xml\", \"w\") as out_file: #generate an output file name\n",
    "                while not done: #loop over lines in inuput file and write to output file\n",
    "                    try:\n",
    "                        line = next(in_file).strip() #strip whitespace for consistency\n",
    "                    except StopIteration:\n",
    "                        done = True\n",
    "                        break\n",
    "                    except UnicodeDecodeError:\n",
    "                        continue\n",
    "                    if \"</post>\" in line: #more robust than 'if line == \"SPLIT\\n\":'\n",
    "                        break\n",
    "                    else:\n",
    "                        out_file.write(line + '\\n') #must add back in newline because we stripped it out earlier \n",
    "                out_n += 1 #increment output file name integer"
   ]
  },
  {
   "cell_type": "code",
   "execution_count": 132,
   "metadata": {},
   "outputs": [],
   "source": [
    "# Create a list of file path from raw blogs path\n",
    "blog_path_list = []\n",
    "for root, directory, files in os.walk(raw_data_path):\n",
    "    for f in files:\n",
    "        if '.xml' in f:\n",
    "            blog_path_list.append(os.path.join(root, f))"
   ]
  },
  {
   "cell_type": "code",
   "execution_count": null,
   "metadata": {},
   "outputs": [],
   "source": [
    "# This step will take a couple minutes, get some coffee and come back later.\n",
    "for blog in blog_path_list:\n",
    "    split_file(blog) # split and write post files"
   ]
  },
  {
   "cell_type": "markdown",
   "metadata": {},
   "source": [
    "### Prepare Labels"
   ]
  },
  {
   "cell_type": "code",
   "execution_count": 18,
   "metadata": {},
   "outputs": [],
   "source": [
    "# parse out the file name\n",
    "filename_list = []\n",
    "for root, directory, files in os.walk(raw_data_path):\n",
    "    for f in files:\n",
    "        if '.xml' in f:\n",
    "            filename_list.append(f)"
   ]
  },
  {
   "cell_type": "code",
   "execution_count": 27,
   "metadata": {},
   "outputs": [],
   "source": [
    "label_all_list = []\n",
    "for labels in filename_list:\n",
    "    label_list = labels.split('.')\n",
    "    label_all_list.append(label_list)"
   ]
  },
  {
   "cell_type": "code",
   "execution_count": 37,
   "metadata": {},
   "outputs": [
    {
     "data": {
      "text/plain": [
       "(19320, 5)"
      ]
     },
     "execution_count": 37,
     "metadata": {},
     "output_type": "execute_result"
    }
   ],
   "source": [
    "df_label = pd.DataFrame(label_all_list,columns=['index','gender','age','industry','sign','file'])\n",
    "df_label.set_index('index', inplace=True)\n",
    "df_label.shape"
   ]
  },
  {
   "cell_type": "code",
   "execution_count": null,
   "metadata": {},
   "outputs": [],
   "source": []
  }
 ],
 "metadata": {
  "kernelspec": {
   "display_name": "Python 3",
   "language": "python",
   "name": "python3"
  },
  "language_info": {
   "codemirror_mode": {
    "name": "ipython",
    "version": 3
   },
   "file_extension": ".py",
   "mimetype": "text/x-python",
   "name": "python",
   "nbconvert_exporter": "python",
   "pygments_lexer": "ipython3",
   "version": "3.7.3"
  }
 },
 "nbformat": 4,
 "nbformat_minor": 2
}
